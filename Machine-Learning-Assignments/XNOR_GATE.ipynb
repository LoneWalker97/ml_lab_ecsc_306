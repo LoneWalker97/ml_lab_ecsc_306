{
 "cells": [
  {
   "cell_type": "code",
   "execution_count": 3,
   "metadata": {},
   "outputs": [
    {
     "name": "stdout",
     "output_type": "stream",
     "text": [
      "iteration=  0 cost=  0.871829\n",
      "iteration=  1000 cost=  0.67416\n",
      "iteration=  2000 cost=  0.666004\n",
      "iteration=  3000 cost=  0.655133\n",
      "iteration=  4000 cost=  0.640771\n",
      "iteration=  5000 cost=  0.62221\n",
      "iteration=  6000 cost=  0.598816\n",
      "iteration=  7000 cost=  0.570091\n",
      "iteration=  8000 cost=  0.535838\n",
      "iteration=  9000 cost=  0.496411\n",
      "iteration=  10000 cost=  0.45293\n",
      "iteration=  11000 cost=  0.407247\n",
      "iteration=  12000 cost=  0.361612\n",
      "Validating output for XNOR GATE\n",
      "[[ 0.71843672]\n",
      " [ 0.30428171]\n",
      " [ 0.28210318]\n",
      " [ 0.6561588 ]]\n"
     ]
    }
   ],
   "source": [
    "import tensorflow as tf\n",
    "import numpy as np\n",
    "x=tf.placeholder(tf.float32,shape=[None,2])\n",
    "y=tf.placeholder(tf.float32,shape=[None,1])\n",
    "\n",
    "weights=tf.Variable(tf.random_normal([2,5]),dtype=tf.float32)\n",
    "bias=tf.Variable(tf.random_normal([5]),dtype=tf.float32)\n",
    "\n",
    "\n",
    "\n",
    "multiply1=tf.add(tf.matmul(x,weights),bias)\n",
    "z=tf.sigmoid(multiply1)\n",
    "\n",
    "W_output = tf.Variable(tf.random_normal([5, 1]), name=\"output_weights\")\n",
    "output = tf.sigmoid(tf.matmul(z, W_output))\n",
    "\n",
    "\n",
    "cost=tf.reduce_mean((y*tf.log(output)+(1-y)*tf.log(1-output))*-1)\n",
    "optimizer = tf.train.GradientDescentOptimizer(0.01).minimize(cost)\n",
    "\n",
    "inp=np.array([[0,0],[0,1],[1,0],[1,1]])\n",
    "op=np.array([[1],[0],[0],[1]])\n",
    "with tf.Session() as sess:\n",
    "   \n",
    "    tf.global_variables_initializer().run()\n",
    "    for i in range(12001):\n",
    "        res,_=sess.run([cost,optimizer],feed_dict={x:inp,y:op})\n",
    "        if i%1000==0:\n",
    "            print (\"iteration= \",i,\"cost= \",res)\n",
    "    print (\"Validating output for XNOR GATE\")\n",
    "    result=sess.run(output,feed_dict={x:inp})\n",
    "    print (result)\n",
    "   "
   ]
  },
  {
   "cell_type": "code",
   "execution_count": null,
   "metadata": {
    "collapsed": true
   },
   "outputs": [],
   "source": []
  }
 ],
 "metadata": {
  "kernelspec": {
   "display_name": "Python 3",
   "language": "python",
   "name": "python3"
  },
  "language_info": {
   "codemirror_mode": {
    "name": "ipython",
    "version": 3
   },
   "file_extension": ".py",
   "mimetype": "text/x-python",
   "name": "python",
   "nbconvert_exporter": "python",
   "pygments_lexer": "ipython3",
   "version": "3.6.1"
  }
 },
 "nbformat": 4,
 "nbformat_minor": 2
}
