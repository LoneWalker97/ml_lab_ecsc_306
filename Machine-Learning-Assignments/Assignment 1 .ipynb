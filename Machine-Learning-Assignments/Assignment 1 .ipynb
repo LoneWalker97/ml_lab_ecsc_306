{
 "cells": [
  {
   "cell_type": "code",
   "execution_count": null,
   "metadata": {},
   "outputs": [],
   "source": [
    "## (a-b)2 = a2 + b2 - 2ab\n",
    "\n",
    "import tensorflow as tf\n",
    "x = tf.constant(2)\n",
    "y = tf.constant(6)\n",
    "with tf.name_scope(\"A2\"):\n",
    "    a = tf.multiply(x, x)\n",
    "with tf.name_scope(\"B2\"):\n",
    "    b = tf.multiply(y, y)\n",
    "with tf.name_scope(\"2AB\"):\n",
    "    c = tf.multiply(x, y)\n",
    "    d = tf.multiply(2, c)\n",
    "with tf.name_scope(\"Addition\"):\n",
    "    e = tf.add(a, b)\n",
    "with tf.name_scope(\"Subtration\"):\n",
    "    f = tf.subtract(e, d)\n",
    "\n",
    "with tf.Session() as sess:\n",
    "    writer = tf.summary.FileWriter(\"/tmp/tboard/output\", sess.graph)\n",
    "    print(sess.run(f))\n",
    "    writer.close()"
   ]
  },
  {
   "cell_type": "code",
   "execution_count": 2,
   "metadata": {},
   "outputs": [
    {
     "name": "stdout",
     "output_type": "stream",
     "text": [
      "9\n"
     ]
    }
   ],
   "source": [
    "## (a + b-c) ^2 = a^2 + b^2 + c^2 + 2xy -2yz -2xz\n",
    "\n",
    "import tensorflow as tf\n",
    "x = tf.constant(2)\n",
    "y = tf.constant(9)\n",
    "z = tf.constant(8)\n",
    "with tf.name_scope(\"A2\"):\n",
    "    a = tf.multiply(x, x)\n",
    "with tf.name_scope(\"B2\"):\n",
    "    b = tf.multiply(y, y)\n",
    "with tf.name_scope(\"C2\"):\n",
    "    c = tf.multiply(z, z)\n",
    "with tf.name_scope(\"2xy\"):\n",
    "    d = tf.multiply(x, y)\n",
    "    g = tf.multiply(2, d)\n",
    "with tf.name_scope(\"2yz\"):\n",
    "    e = tf.multiply(y, z)\n",
    "    h = tf.multiply(2, e)\n",
    "with tf.name_scope(\"2zx\"):\n",
    "    f = tf.multiply(z, x)\n",
    "    i = tf.multiply(2, f)\n",
    "with tf.name_scope(\"Addition\"):\n",
    "    j = tf.add(a, b)\n",
    "    k = tf.add(c, g)\n",
    "    l = tf.add(j, k)\n",
    "    m = tf.add(h, i)\n",
    "with tf.name_scope(\"Subtration\"):\n",
    "    n = tf.subtract(l, m)\n",
    "\n",
    "with tf.Session() as sess:\n",
    "    writer = tf.summary.FileWriter(\"/tmp/tboard/output1\", sess.graph)\n",
    "    print(sess.run(n))\n",
    "    writer.close()"
   ]
  },
  {
   "cell_type": "code",
   "execution_count": null,
   "metadata": {
    "collapsed": true
   },
   "outputs": [],
   "source": []
  }
 ],
 "metadata": {
  "kernelspec": {
   "display_name": "Python 3",
   "language": "python",
   "name": "python3"
  },
  "language_info": {
   "codemirror_mode": {
    "name": "ipython",
    "version": 3
   },
   "file_extension": ".py",
   "mimetype": "text/x-python",
   "name": "python",
   "nbconvert_exporter": "python",
   "pygments_lexer": "ipython3",
   "version": "3.6.1"
  }
 },
 "nbformat": 4,
 "nbformat_minor": 2
}
