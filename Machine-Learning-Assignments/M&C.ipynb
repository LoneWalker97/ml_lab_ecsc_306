{
 "cells": [
  {
   "cell_type": "code",
   "execution_count": 25,
   "metadata": {
    "collapsed": true
   },
   "outputs": [],
   "source": [
    "import tensorflow as tf\n",
    "import numpy as np"
   ]
  },
  {
   "cell_type": "code",
   "execution_count": 33,
   "metadata": {},
   "outputs": [],
   "source": [
    "X = np.asarray([3.3,4.4,5.5,6.71,6.93,4.168,9.779,6.182,7.59,2.167])\n",
    "Y = np.asarray([1.7,2.76,2.09,3.19,1.694,1.573,3.366,2.596,2.53])\n",
    "n1 = X.shape[0]\n",
    "n2 = Y.shape[0]\n",
    "\n",
    "SUM_x = 0\n",
    "SUM_y = 0\n"
   ]
  },
  {
   "cell_type": "code",
   "execution_count": 34,
   "metadata": {},
   "outputs": [
    {
     "name": "stdout",
     "output_type": "stream",
     "text": [
      "5.6726\n",
      "2.167\n"
     ]
    }
   ],
   "source": [
    "for x in X:\n",
    "    SUM_x = tf.add(x,SUM_x)\n",
    "\n",
    "\n",
    "    \n",
    "for y in Y:\n",
    "    SUM_y = tf.add(x,SUM_y)\n",
    "    \n",
    "with tf.Session() as sess:\n",
    "    mean_x = sess.run(SUM_x/n1)\n",
    "    mean_y = sess.run(SUM_y/n2)\n",
    "    print(mean_x)\n",
    "    print(mean_y)\n",
    "    \n",
    "    \n"
   ]
  },
  {
   "cell_type": "code",
   "execution_count": null,
   "metadata": {
    "collapsed": true
   },
   "outputs": [],
   "source": [
    "#variance of x\n",
    "\n",
    "for x in X:\n",
    "    var = tf.add((x-))"
   ]
  },
  {
   "cell_type": "code",
   "execution_count": null,
   "metadata": {
    "collapsed": true
   },
   "outputs": [],
   "source": []
  }
 ],
 "metadata": {
  "kernelspec": {
   "display_name": "Python 3",
   "language": "python",
   "name": "python3"
  },
  "language_info": {
   "codemirror_mode": {
    "name": "ipython",
    "version": 3
   },
   "file_extension": ".py",
   "mimetype": "text/x-python",
   "name": "python",
   "nbconvert_exporter": "python",
   "pygments_lexer": "ipython3",
   "version": "3.6.1"
  }
 },
 "nbformat": 4,
 "nbformat_minor": 2
}
