{
 "cells": [
  {
   "cell_type": "code",
   "execution_count": 22,
   "metadata": {
    "collapsed": true
   },
   "outputs": [],
   "source": [
    "import tensorflow as tf\n",
    "import numpy as np\n",
    "import matplotlib.pyplot as plt"
   ]
  },
  {
   "cell_type": "code",
   "execution_count": 2,
   "metadata": {
    "collapsed": true
   },
   "outputs": [],
   "source": [
    "X = np.asarray([3.3,4.4,5.5,6.71,6.93,4.168,9.779,6.182,7.59,2.167])\n",
    "Y = np.asarray([1.7,2.76,2.09,3.19,1.694,1.573,3.366,2.596,2.53,4.68])\n",
    "n1 = X.shape[0]\n",
    "n2 = Y.shape[0]\n",
    "\n",
    "SUM_x = 0\n",
    "SUM_y = 0\n"
   ]
  },
  {
   "cell_type": "code",
   "execution_count": 3,
   "metadata": {},
   "outputs": [
    {
     "name": "stdout",
     "output_type": "stream",
     "text": [
      "5.6726\n",
      "2.167\n"
     ]
    }
   ],
   "source": [
    "for x in X:\n",
    "    SUM_x = tf.add(x,SUM_x)\n",
    "\n",
    "\n",
    "    \n",
    "for y in Y:\n",
    "    SUM_y = tf.add(x,SUM_y)\n",
    "    \n",
    "with tf.Session() as sess:\n",
    "    mean_x = sess.run(SUM_x/n1)\n",
    "    mean_y = sess.run(SUM_y/n2)\n",
    "    print(mean_x)\n",
    "    print(mean_y)\n",
    "    \n",
    "    \n"
   ]
  },
  {
   "cell_type": "code",
   "execution_count": 6,
   "metadata": {},
   "outputs": [
    {
     "name": "stdout",
     "output_type": "stream",
     "text": [
      "4.52872704\n"
     ]
    }
   ],
   "source": [
    "#variance of x\n",
    "\n",
    "var = 0\n",
    "for x in X:\n",
    "    a = tf.subtract(x,mean_x)\n",
    "    a2 = tf.multiply(a,a)\n",
    "    var = tf.add(a2,var)\n",
    "    \n",
    "with tf.Session() as sess:\n",
    "    var_x = sess.run(var/n1)\n",
    "    print(var_x)"
   ]
  },
  {
   "cell_type": "code",
   "execution_count": 10,
   "metadata": {},
   "outputs": [
    {
     "name": "stdout",
     "output_type": "stream",
     "text": [
      "-1.2445654\n"
     ]
    }
   ],
   "source": [
    "#Covariance of x and y covariance=sum((x(i)−mean(x))∗(y(i)−mean(y)))\n",
    "\n",
    "covar = 0\n",
    "for (i,j) in zip(X,Y):\n",
    "    x = tf.subtract(i,mean_x)\n",
    "    y = tf.subtract(j,mean_y)\n",
    "    xy = tf.multiply(x,y)\n",
    "    covar = tf.add(xy,covar)\n",
    "\n",
    "with tf.Session() as sess:\n",
    "    covar_xy = sess.run(covar)\n",
    "    print(covar_xy)\n",
    "\n"
   ]
  },
  {
   "cell_type": "code",
   "execution_count": 18,
   "metadata": {},
   "outputs": [
    {
     "name": "stdout",
     "output_type": "stream",
     "text": [
      "-0.274815723935\n"
     ]
    }
   ],
   "source": [
    "#value of m\n",
    "\n",
    "m = covar_xy/var_x\n",
    "#with tf.Session() as sess:\n",
    "   # m = sess.run(m)\n",
    "print(m)\n"
   ]
  },
  {
   "cell_type": "code",
   "execution_count": 19,
   "metadata": {},
   "outputs": [
    {
     "name": "stdout",
     "output_type": "stream",
     "text": [
      "3.72591967559\n"
     ]
    }
   ],
   "source": [
    "#value of c\n",
    "\n",
    "a = tf.multiply(m,mean_x)\n",
    "c = tf.subtract(mean_y,a)\n",
    "with tf.Session() as sess:\n",
    "    c = sess.run(c)\n",
    "    print(c)"
   ]
  },
  {
   "cell_type": "code",
   "execution_count": 23,
   "metadata": {},
   "outputs": [
    {
     "data": {
      "image/png": "[encoded data removed]",
      "text/plain": [
       "<matplotlib.figure.Figure at 0x7f67a0caaa58>"
      ]
     },
     "metadata": {},
     "output_type": "display_data"
    }
   ],
   "source": [
    "#Graphical display\n",
    "plt.plot(X, Y, 'ro', label='Original data')\n",
    "plt.plot(X, m * X + c, label='Fitted line')\n",
    "plt.legend()\n",
    "plt.show()"
   ]
  },
  {
   "cell_type": "code",
   "execution_count": 25,
   "metadata": {},
   "outputs": [
    {
     "name": "stdout",
     "output_type": "stream",
     "text": [
      "0.806335852207\n"
     ]
    }
   ],
   "source": [
    "# Constructing a linear model\n",
    "pred = tf.add(tf.multiply(X, m), c)\n",
    "# Root Mean squared error\n",
    "err = tf.sqrt(tf.reduce_sum(tf.pow(pred-Y, 2))/(2*n1))\n",
    "\n",
    "with tf.Session() as sess:\n",
    "    error = sess.run(err)\n",
    "    print(error)"
   ]
  },
  {
   "cell_type": "code",
   "execution_count": 26,
   "metadata": {},
   "outputs": [
    {
     "name": "stdout",
     "output_type": "stream",
     "text": [
      "Error found by Root mean squared error : 0.806335852207\n"
     ]
    }
   ],
   "source": [
    "print(\"Error found by Root mean squared error :\",error)"
   ]
  },
  {
   "cell_type": "code",
   "execution_count": null,
   "metadata": {
    "collapsed": true
   },
   "outputs": [],
   "source": []
  }
 ],
 "metadata": {
  "kernelspec": {
   "display_name": "Python 3",
   "language": "python",
   "name": "python3"
  },
  "language_info": {
   "codemirror_mode": {
    "name": "ipython",
    "version": 3
   },
   "file_extension": ".py",
   "mimetype": "text/x-python",
   "name": "python",
   "nbconvert_exporter": "python",
   "pygments_lexer": "ipython3",
   "version": "3.6.1"
  }
 },
 "nbformat": 4,
 "nbformat_minor": 2
}
